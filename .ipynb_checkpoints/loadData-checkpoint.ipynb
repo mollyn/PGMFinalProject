{
 "cells": [
  {
   "cell_type": "markdown",
   "metadata": {},
   "source": [
    "## Execute the properties file so we have all necessary imports and variables"
   ]
  },
  {
   "cell_type": "code",
   "execution_count": null,
   "metadata": {
    "collapsed": true
   },
   "outputs": [],
   "source": [
    "exec(open(\"props.py\"))\n",
    "exec(open(\"helpers.py\"))\n",
    "from __future__ import division"
   ]
  },
  {
   "cell_type": "markdown",
   "metadata": {},
   "source": [
    "## Info to manipulate the data"
   ]
  },
  {
   "cell_type": "markdown",
   "metadata": {},
   "source": [
    "- Column names we don't want to keep can be added here\n",
    "- Column names to rename to so it's easier to deal with the data in a dataframe\n",
    "\n",
    "** MAKE SURE YOUR DATA ALWAYS COMES IN WITH THESE COLUMNS IN THIS ORDER! **"
   ]
  },
  {
   "cell_type": "code",
   "execution_count": null,
   "metadata": {
    "collapsed": true
   },
   "outputs": [],
   "source": [
    "toDrop = ['bikeid']\n",
    "colNames = ['tripduration',\n",
    "             'starttime',\n",
    "             'stoptime',\n",
    "             'startstationid',\n",
    "             'startstationname',\n",
    "             'startstationlatitude',\n",
    "             'startstationlongitude',\n",
    "             'endstationid',\n",
    "             'endstationname',\n",
    "             'endstationlatitude',\n",
    "             'endstationlongitude',\n",
    "             'bikeid',\n",
    "             'usertype',\n",
    "             'birthyear',\n",
    "             'gender']"
   ]
  },
  {
   "cell_type": "markdown",
   "metadata": {},
   "source": [
    "## Load the data"
   ]
  },
  {
   "cell_type": "markdown",
   "metadata": {},
   "source": [
    "### Load using pandas"
   ]
  },
  {
   "cell_type": "code",
   "execution_count": null,
   "metadata": {
    "collapsed": true
   },
   "outputs": [],
   "source": [
    "Jun17 = pd.read_csv(os.path.join(dataFolder,'201706_tripdata.csv'))\n",
    "Jun17.columns = colNames\n",
    "Jun17.drop(toDrop, axis=1, inplace=True)\n",
    "\n",
    "months = [Jun17]"
   ]
  },
  {
   "cell_type": "markdown",
   "metadata": {},
   "source": [
    "### Make necessary modifications"
   ]
  },
  {
   "cell_type": "code",
   "execution_count": 103,
   "metadata": {
    "collapsed": false
   },
   "outputs": [],
   "source": [
    "for mIdx,m in enumerate(months):\n",
    "    \"\"\"\n",
    "    User Type is a string - map to numbers\n",
    "    \"\"\"\n",
    "    reassignNans(m,'usertype',0)   \n",
    "    reassignVals(m,'usertype','Subscriber',1)\n",
    "    reassignVals(m,'usertype','Customer',2)\n",
    "    m['usertype'] = m['usertype'].astype('int64') \n",
    "    \n",
    "    \"\"\"\n",
    "    Convert times to pandas datetimes so we will have those utils available\n",
    "    \"\"\"\n",
    "    m['starttime'] = pd.to_datetime(m['starttime'])\n",
    "    m['stoptime'] = pd.to_datetime(m['stoptime'])"
   ]
  },
  {
   "cell_type": "markdown",
   "metadata": {},
   "source": [
    "### Generate derived columns"
   ]
  },
  {
   "cell_type": "markdown",
   "metadata": {},
   "source": [
    "#### age from birth year"
   ]
  },
  {
   "cell_type": "code",
   "execution_count": 104,
   "metadata": {
    "collapsed": true
   },
   "outputs": [],
   "source": [
    "yearOfData = 2017\n",
    "\n",
    "for mIdx,m in enumerate(months):\n",
    "    m['age'] = yearOfData - m['birthyear']"
   ]
  },
  {
   "cell_type": "code",
   "execution_count": 105,
   "metadata": {
    "collapsed": true
   },
   "outputs": [
    {
     "name": "stdout",
     "output_type": "stream",
     "text": [
      "There are \n",
      "884\n",
      "fake ages \n",
      "\n",
      "There are\n",
      "192432\n",
      "previously unknown ages \n",
      "\n",
      "Total unknown ages is \n",
      "193316\n",
      "out of \n",
      "1731594\n",
      "total ages\n",
      "for percentage\n",
      "11.1640488475\n"
     ]
    }
   ],
   "source": [
    "# let's see what the data looks like\n",
    "# we'll say any age greater than 85 is a bogus birth year that someone entered\n",
    "# also there are some nans with no birth year data\n",
    "for mIdx,m in enumerate(months):\n",
    "    greater85 = m.age[m.age>85].size\n",
    "    unk = m.age[m.age.isnull()].size\n",
    "    total = m.age.size\n",
    "    percentUnk = (greater85+unk)/total*100\n",
    "    print('There are ')\n",
    "    print(greater85)\n",
    "    print('fake ages \\n')\n",
    "    print('There are')\n",
    "    print(unk)\n",
    "    print('previously unknown ages \\n')\n",
    "    print('Total unknown ages is ')\n",
    "    print(greater85+unk)\n",
    "    print('out of ')\n",
    "    print(total)\n",
    "    print('total ages')\n",
    "    print('for percentage')\n",
    "    print(percentUnk)"
   ]
  },
  {
   "cell_type": "code",
   "execution_count": 106,
   "metadata": {
    "collapsed": true
   },
   "outputs": [
    {
     "name": "stdout",
     "output_type": "stream",
     "text": [
      "There are \n",
      "0\n",
      "fake ages \n",
      "\n",
      "There are\n",
      "193316\n",
      "previously unknown ages \n",
      "\n",
      "Total unknown ages is \n",
      "193316\n",
      "out of \n",
      "1731594\n",
      "total ages\n",
      "for percentage\n",
      "11.1640488475\n"
     ]
    }
   ],
   "source": [
    "# reassign >85 people to be unknown (nan)\n",
    "for mIdx,m in enumerate(months):\n",
    "    indices = m[m['age']>85].index\n",
    "    col='age'\n",
    "    newVal=np.nan\n",
    "    m.set_value(indices,col,newVal)\n",
    "    \n",
    "    # check that we did it correctly...percent of nans should now be the same percentage as we obtained before\n",
    "    greater85 = m.age[m.age>85].size\n",
    "    unk = m.age[m.age.isnull()].size\n",
    "    total = m.age.size\n",
    "    percentUnk = (greater85+unk)/total*100\n",
    "    print('There are ')\n",
    "    print(greater85)\n",
    "    print('fake ages \\n')\n",
    "    print('There are')\n",
    "    print(unk)\n",
    "    print('unknown ages \\n')\n",
    "    print('Total unknown ages is ')\n",
    "    print(greater85+unk)\n",
    "    print('out of ')\n",
    "    print(total)\n",
    "    print('total ages')\n",
    "    print('for percentage')\n",
    "    print(percentUnk)"
   ]
  },
  {
   "cell_type": "markdown",
   "metadata": {},
   "source": [
    "#### Day of month, Day of week, Hour of day from starttime/stoptime"
   ]
  },
  {
   "cell_type": "code",
   "execution_count": null,
   "metadata": {
    "collapsed": false
   },
   "outputs": [],
   "source": [
    "for mIdx,m in enumerate(months):\n",
    "    m['dayOfMonth'] = np.zeros((m.shape[0],1))\n",
    "    m['dayOfWeek'] = np.zeros((m.shape[0],1))\n",
    "    m['startHour'] = np.zeros((m.shape[0],1))\n",
    "    m['stopHour'] = np.zeros((m.shape[0],1))\n",
    "    for idx in range(m.shape[0]):\n",
    "        m.set_value(idx,'dayOfMonth',m['starttime'][idx].day)\n",
    "        m.set_value(idx,'dayOfWeek',m['starttime'][idx].dayofweek)\n",
    "        m.set_value(idx,'startHour',m['starttime'][idx].hour)\n",
    "        m.set_value(idx,'stopHour',m['stoptime'][idx].hour)"
   ]
  },
  {
   "cell_type": "markdown",
   "metadata": {},
   "source": [
    "## Check to make sure everything looks good"
   ]
  },
  {
   "cell_type": "code",
   "execution_count": null,
   "metadata": {
    "collapsed": false
   },
   "outputs": [],
   "source": [
    "# There are 1,731,594 rides in this month!\n",
    "Jun17.shape"
   ]
  },
  {
   "cell_type": "code",
   "execution_count": 109,
   "metadata": {
    "collapsed": false
   },
   "outputs": [
    {
     "data": {
      "text/html": [
       "<div>\n",
       "<table border=\"1\" class=\"dataframe\">\n",
       "  <thead>\n",
       "    <tr style=\"text-align: right;\">\n",
       "      <th></th>\n",
       "      <th>tripduration</th>\n",
       "      <th>starttime</th>\n",
       "      <th>stoptime</th>\n",
       "      <th>startstationid</th>\n",
       "      <th>startstationname</th>\n",
       "      <th>startstationlatitude</th>\n",
       "      <th>startstationlongitude</th>\n",
       "      <th>endstationid</th>\n",
       "      <th>endstationname</th>\n",
       "      <th>endstationlatitude</th>\n",
       "      <th>endstationlongitude</th>\n",
       "      <th>usertype</th>\n",
       "      <th>birthyear</th>\n",
       "      <th>gender</th>\n",
       "      <th>age</th>\n",
       "    </tr>\n",
       "  </thead>\n",
       "  <tbody>\n",
       "    <tr>\n",
       "      <th>0</th>\n",
       "      <td>1397</td>\n",
       "      <td>2017-06-01 00:00:02</td>\n",
       "      <td>2017-06-01 00:23:19</td>\n",
       "      <td>515</td>\n",
       "      <td>W 43 St &amp; 10 Ave</td>\n",
       "      <td>40.760094</td>\n",
       "      <td>-73.994618</td>\n",
       "      <td>3285</td>\n",
       "      <td>W 87 St  &amp; Amsterdam Ave</td>\n",
       "      <td>40.788390</td>\n",
       "      <td>-73.974700</td>\n",
       "      <td>1</td>\n",
       "      <td>1967.0</td>\n",
       "      <td>1</td>\n",
       "      <td>50.0</td>\n",
       "    </tr>\n",
       "    <tr>\n",
       "      <th>1</th>\n",
       "      <td>1103</td>\n",
       "      <td>2017-06-01 00:00:13</td>\n",
       "      <td>2017-06-01 00:18:37</td>\n",
       "      <td>488</td>\n",
       "      <td>W 39 St &amp; 9 Ave</td>\n",
       "      <td>40.756458</td>\n",
       "      <td>-73.993722</td>\n",
       "      <td>297</td>\n",
       "      <td>E 15 St &amp; 3 Ave</td>\n",
       "      <td>40.734232</td>\n",
       "      <td>-73.986923</td>\n",
       "      <td>1</td>\n",
       "      <td>1981.0</td>\n",
       "      <td>1</td>\n",
       "      <td>36.0</td>\n",
       "    </tr>\n",
       "    <tr>\n",
       "      <th>2</th>\n",
       "      <td>1810</td>\n",
       "      <td>2017-06-01 00:00:20</td>\n",
       "      <td>2017-06-01 00:30:31</td>\n",
       "      <td>461</td>\n",
       "      <td>E 20 St &amp; 2 Ave</td>\n",
       "      <td>40.735877</td>\n",
       "      <td>-73.982050</td>\n",
       "      <td>465</td>\n",
       "      <td>Broadway &amp; W 41 St</td>\n",
       "      <td>40.755136</td>\n",
       "      <td>-73.986580</td>\n",
       "      <td>1</td>\n",
       "      <td>1982.0</td>\n",
       "      <td>1</td>\n",
       "      <td>35.0</td>\n",
       "    </tr>\n",
       "    <tr>\n",
       "      <th>3</th>\n",
       "      <td>1760</td>\n",
       "      <td>2017-06-01 00:00:24</td>\n",
       "      <td>2017-06-01 00:29:45</td>\n",
       "      <td>2009</td>\n",
       "      <td>Catherine St &amp; Monroe St</td>\n",
       "      <td>40.711174</td>\n",
       "      <td>-73.996826</td>\n",
       "      <td>527</td>\n",
       "      <td>E 33 St &amp; 2 Ave</td>\n",
       "      <td>40.744023</td>\n",
       "      <td>-73.976056</td>\n",
       "      <td>1</td>\n",
       "      <td>1973.0</td>\n",
       "      <td>2</td>\n",
       "      <td>44.0</td>\n",
       "    </tr>\n",
       "    <tr>\n",
       "      <th>4</th>\n",
       "      <td>2165</td>\n",
       "      <td>2017-06-01 00:00:33</td>\n",
       "      <td>2017-06-01 00:36:38</td>\n",
       "      <td>360</td>\n",
       "      <td>William St &amp; Pine St</td>\n",
       "      <td>40.707179</td>\n",
       "      <td>-74.008873</td>\n",
       "      <td>474</td>\n",
       "      <td>5 Ave &amp; E 29 St</td>\n",
       "      <td>40.745168</td>\n",
       "      <td>-73.986831</td>\n",
       "      <td>1</td>\n",
       "      <td>1985.0</td>\n",
       "      <td>1</td>\n",
       "      <td>32.0</td>\n",
       "    </tr>\n",
       "  </tbody>\n",
       "</table>\n",
       "</div>"
      ],
      "text/plain": [
       "   tripduration           starttime            stoptime  startstationid  \\\n",
       "0          1397 2017-06-01 00:00:02 2017-06-01 00:23:19             515   \n",
       "1          1103 2017-06-01 00:00:13 2017-06-01 00:18:37             488   \n",
       "2          1810 2017-06-01 00:00:20 2017-06-01 00:30:31             461   \n",
       "3          1760 2017-06-01 00:00:24 2017-06-01 00:29:45            2009   \n",
       "4          2165 2017-06-01 00:00:33 2017-06-01 00:36:38             360   \n",
       "\n",
       "           startstationname  startstationlatitude  startstationlongitude  \\\n",
       "0          W 43 St & 10 Ave             40.760094             -73.994618   \n",
       "1           W 39 St & 9 Ave             40.756458             -73.993722   \n",
       "2           E 20 St & 2 Ave             40.735877             -73.982050   \n",
       "3  Catherine St & Monroe St             40.711174             -73.996826   \n",
       "4      William St & Pine St             40.707179             -74.008873   \n",
       "\n",
       "   endstationid            endstationname  endstationlatitude  \\\n",
       "0          3285  W 87 St  & Amsterdam Ave           40.788390   \n",
       "1           297           E 15 St & 3 Ave           40.734232   \n",
       "2           465        Broadway & W 41 St           40.755136   \n",
       "3           527           E 33 St & 2 Ave           40.744023   \n",
       "4           474           5 Ave & E 29 St           40.745168   \n",
       "\n",
       "   endstationlongitude  usertype  birthyear  gender   age  \n",
       "0           -73.974700         1     1967.0       1  50.0  \n",
       "1           -73.986923         1     1981.0       1  36.0  \n",
       "2           -73.986580         1     1982.0       1  35.0  \n",
       "3           -73.976056         1     1973.0       2  44.0  \n",
       "4           -73.986831         1     1985.0       1  32.0  "
      ]
     },
     "execution_count": 109,
     "metadata": {},
     "output_type": "execute_result"
    }
   ],
   "source": [
    "Jun17.head()"
   ]
  },
  {
   "cell_type": "code",
   "execution_count": 27,
   "metadata": {
    "collapsed": true
   },
   "outputs": [
    {
     "data": {
      "text/html": [
       "<div>\n",
       "<table border=\"1\" class=\"dataframe\">\n",
       "  <thead>\n",
       "    <tr style=\"text-align: right;\">\n",
       "      <th></th>\n",
       "      <th>tripduration</th>\n",
       "      <th>starttime</th>\n",
       "      <th>stoptime</th>\n",
       "      <th>startstationid</th>\n",
       "      <th>startstationname</th>\n",
       "      <th>startstationlatitude</th>\n",
       "      <th>startstationlongitude</th>\n",
       "      <th>endstationid</th>\n",
       "      <th>endstationname</th>\n",
       "      <th>endstationlatitude</th>\n",
       "      <th>endstationlongitude</th>\n",
       "      <th>usertype</th>\n",
       "      <th>birth year</th>\n",
       "      <th>gender</th>\n",
       "    </tr>\n",
       "  </thead>\n",
       "  <tbody>\n",
       "    <tr>\n",
       "      <th>1731589</th>\n",
       "      <td>394</td>\n",
       "      <td>2017-06-30 23:59:30</td>\n",
       "      <td>2017-07-01 00:06:05</td>\n",
       "      <td>539</td>\n",
       "      <td>Metropolitan Ave &amp; Bedford Ave</td>\n",
       "      <td>40.715348</td>\n",
       "      <td>-73.960241</td>\n",
       "      <td>3107</td>\n",
       "      <td>Bedford Ave &amp; Nassau Ave</td>\n",
       "      <td>40.723117</td>\n",
       "      <td>-73.952123</td>\n",
       "      <td>1</td>\n",
       "      <td>1986.0</td>\n",
       "      <td>2</td>\n",
       "    </tr>\n",
       "    <tr>\n",
       "      <th>1731590</th>\n",
       "      <td>1171</td>\n",
       "      <td>2017-06-30 23:59:40</td>\n",
       "      <td>2017-07-01 00:19:12</td>\n",
       "      <td>195</td>\n",
       "      <td>Liberty St &amp; Broadway</td>\n",
       "      <td>40.709056</td>\n",
       "      <td>-74.010434</td>\n",
       "      <td>438</td>\n",
       "      <td>St Marks Pl &amp; 1 Ave</td>\n",
       "      <td>40.727791</td>\n",
       "      <td>-73.985649</td>\n",
       "      <td>1</td>\n",
       "      <td>1986.0</td>\n",
       "      <td>1</td>\n",
       "    </tr>\n",
       "    <tr>\n",
       "      <th>1731591</th>\n",
       "      <td>1272</td>\n",
       "      <td>2017-06-30 23:59:47</td>\n",
       "      <td>2017-07-01 00:20:59</td>\n",
       "      <td>477</td>\n",
       "      <td>W 41 St &amp; 8 Ave</td>\n",
       "      <td>40.756405</td>\n",
       "      <td>-73.990026</td>\n",
       "      <td>3314</td>\n",
       "      <td>W 95 St &amp; Broadway</td>\n",
       "      <td>40.793770</td>\n",
       "      <td>-73.971888</td>\n",
       "      <td>1</td>\n",
       "      <td>1982.0</td>\n",
       "      <td>1</td>\n",
       "    </tr>\n",
       "    <tr>\n",
       "      <th>1731592</th>\n",
       "      <td>918</td>\n",
       "      <td>2017-06-30 23:59:45</td>\n",
       "      <td>2017-07-01 00:15:03</td>\n",
       "      <td>328</td>\n",
       "      <td>Watts St &amp; Greenwich St</td>\n",
       "      <td>40.724055</td>\n",
       "      <td>-74.009660</td>\n",
       "      <td>146</td>\n",
       "      <td>Hudson St &amp; Reade St</td>\n",
       "      <td>40.716250</td>\n",
       "      <td>-74.009106</td>\n",
       "      <td>1</td>\n",
       "      <td>1998.0</td>\n",
       "      <td>1</td>\n",
       "    </tr>\n",
       "    <tr>\n",
       "      <th>1731593</th>\n",
       "      <td>1398</td>\n",
       "      <td>2017-06-30 23:59:53</td>\n",
       "      <td>2017-07-01 00:23:12</td>\n",
       "      <td>3244</td>\n",
       "      <td>University Pl &amp; E 8 St</td>\n",
       "      <td>40.731437</td>\n",
       "      <td>-73.994903</td>\n",
       "      <td>3002</td>\n",
       "      <td>South End Ave &amp; Liberty St</td>\n",
       "      <td>40.711512</td>\n",
       "      <td>-74.015756</td>\n",
       "      <td>1</td>\n",
       "      <td>1987.0</td>\n",
       "      <td>2</td>\n",
       "    </tr>\n",
       "  </tbody>\n",
       "</table>\n",
       "</div>"
      ],
      "text/plain": [
       "         tripduration            starttime             stoptime  \\\n",
       "1731589           394  2017-06-30 23:59:30  2017-07-01 00:06:05   \n",
       "1731590          1171  2017-06-30 23:59:40  2017-07-01 00:19:12   \n",
       "1731591          1272  2017-06-30 23:59:47  2017-07-01 00:20:59   \n",
       "1731592           918  2017-06-30 23:59:45  2017-07-01 00:15:03   \n",
       "1731593          1398  2017-06-30 23:59:53  2017-07-01 00:23:12   \n",
       "\n",
       "         startstationid                startstationname  startstationlatitude  \\\n",
       "1731589             539  Metropolitan Ave & Bedford Ave             40.715348   \n",
       "1731590             195           Liberty St & Broadway             40.709056   \n",
       "1731591             477                 W 41 St & 8 Ave             40.756405   \n",
       "1731592             328         Watts St & Greenwich St             40.724055   \n",
       "1731593            3244          University Pl & E 8 St             40.731437   \n",
       "\n",
       "         startstationlongitude  endstationid              endstationname  \\\n",
       "1731589             -73.960241          3107    Bedford Ave & Nassau Ave   \n",
       "1731590             -74.010434           438         St Marks Pl & 1 Ave   \n",
       "1731591             -73.990026          3314          W 95 St & Broadway   \n",
       "1731592             -74.009660           146        Hudson St & Reade St   \n",
       "1731593             -73.994903          3002  South End Ave & Liberty St   \n",
       "\n",
       "         endstationlatitude  endstationlongitude  usertype  birth year  gender  \n",
       "1731589           40.723117           -73.952123         1      1986.0       2  \n",
       "1731590           40.727791           -73.985649         1      1986.0       1  \n",
       "1731591           40.793770           -73.971888         1      1982.0       1  \n",
       "1731592           40.716250           -74.009106         1      1998.0       1  \n",
       "1731593           40.711512           -74.015756         1      1987.0       2  "
      ]
     },
     "execution_count": 27,
     "metadata": {},
     "output_type": "execute_result"
    }
   ],
   "source": [
    "Jun17.tail()"
   ]
  },
  {
   "cell_type": "code",
   "execution_count": null,
   "metadata": {
    "collapsed": true
   },
   "outputs": [],
   "source": []
  }
 ],
 "metadata": {
  "anaconda-cloud": {},
  "kernelspec": {
   "display_name": "Python [Root]",
   "language": "python",
   "name": "Python [Root]"
  },
  "language_info": {
   "codemirror_mode": {
    "name": "ipython",
    "version": 2
   },
   "file_extension": ".py",
   "mimetype": "text/x-python",
   "name": "python",
   "nbconvert_exporter": "python",
   "pygments_lexer": "ipython2",
   "version": "2.7.12"
  }
 },
 "nbformat": 4,
 "nbformat_minor": 0
}
